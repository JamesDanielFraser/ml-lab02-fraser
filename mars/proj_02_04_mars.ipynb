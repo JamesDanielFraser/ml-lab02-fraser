{
 "cells": [
  {
   "cell_type": "markdown",
   "metadata": {},
   "source": [
    "# Basic Numpy Manipulation\n",
    "In this section, we'll do some examples manipulating Numpy arrays.\n",
    "numpy stands for \"numerical python\".  We'll learn about:\n",
    "- Importing data\n",
    "- Indexing\n",
    "- Slicing and concatenating arrays\n",
    "- Transposing and reshaping\n",
    "- Inverting a matrix\n",
    "\n",
    "In this lab, we're going to hit the major numpy operations on arrays.  Lots of just practicing with NumPy. Not much of a seemingly driving purpose or goal.\n"
   ]
  },
  {
   "cell_type": "markdown",
   "metadata": {},
   "source": [
    "Here's an inline LaTex example...  Just for fun!  See how cool LaTex is?  It's prounounced \"Lay - tech\" by the way.  Not \"latex\" the stuff that surgical gloves are sometimes made of.\n",
    "\n",
    "$\\large\\frac{a}{b}$"
   ]
  },
  {
   "cell_type": "code",
   "execution_count": 2,
   "metadata": {},
   "outputs": [],
   "source": [
    "import numpy as np\n"
   ]
  },
  {
   "cell_type": "markdown",
   "metadata": {},
   "source": [
    "# Importing Data\n",
    "\n",
    "NumPy has some nice ways to load data from files and other sources.  np.genfromtxt() is a very sophisticated function to load data out of a text file.  Most commonly these files are \"CSV\" files - **Comma Separated Values**\n",
    "\n",
    "Here is a snippet from the AverageRanifallByState.csv file:\n",
    "\n",
    "```\n",
    "State,Inches,MM,Rank\n",
    "Alabama,58.3,1480,4\n",
    "Alaska,22.5,572,39\n",
    "Arizona,13.6,345,47\n",
    "```\n",
    "\n",
    "See how each value is separated by a comma?  That's the **delimiter** - it delimits the data elements.\n",
    "\n",
    "The first row is apparently a **header**\n",
    "\n",
    "You could load that file into Excel or Google Sheets.  Or export an Excel sheet as a CSV. \n",
    "\n",
    "#### --> 1. In the following cell, load the data into a NumPy Array called `rainfallData` using:\n",
    "\n",
    "`    np.genfromtxt (  FLENAME,  delimiter (a comma),  dtype=str)`\n",
    "\n",
    "The `dtype=str` tells NumPy to make an array of strings.\n",
    "\n",
    "**Double Click Here for answer**\n",
    "<!--\n",
    "rainfallData = np.genfromtxt ('AverageRainfallByState.csv', delimiter=\",\", dtype=str)\n",
    "\n",
    "-->\n",
    "\n"
   ]
  },
  {
   "cell_type": "code",
   "execution_count": 3,
   "metadata": {},
   "outputs": [],
   "source": [
    "\n",
    "\n",
    "###\n",
    "rainfallData = np.genfromtxt ('AverageRainfallByState.csv', delimiter=\",\", dtype=str)\n",
    "\n",
    "\n"
   ]
  },
  {
   "cell_type": "markdown",
   "metadata": {},
   "source": [
    "### Indexing.\n",
    "For Python lists, you index with the `[ ]`.  I like to read this as \"atposition\" so...\n",
    "\n",
    "`rocks[2]` is *rocks at position 2*.  Note the first position is 0.  That should be feldspar.\n",
    "\n",
    "In NumPy, you can specify indices with commas between the dimensions.  So...\n",
    "```\n",
    "a = np.array([[1,2,3],[4,5,6]])\n",
    "print(a[1,2])\n",
    "```\n",
    "should print 6.\n",
    "\n",
    "#### --> 2.  Index into Numpy\n",
    "\n",
    "Print the value at rainfallData third row (not index 3), first column.  Should be \"Alaska\"\n",
    "\n",
    "**Double Click Here for answer**\n",
    "<!--\n",
    "print(rainfallData[2,0])\n",
    "-->\n",
    "\n"
   ]
  },
  {
   "cell_type": "code",
   "execution_count": 10,
   "metadata": {},
   "outputs": [
    {
     "name": "stdout",
     "output_type": "stream",
     "text": [
      "feldspar\n",
      "6\n",
      "Alaska\n"
     ]
    }
   ],
   "source": [
    "rocks=['garnate', 'quartz', 'feldspar', 'perskovite', \"Ben (he's a bit boring.)\"]\n",
    "print(rocks[2])\n",
    "\n",
    "a = np.array([[1,2,3],[4,5,6]])\n",
    "print(a[1,2])\n",
    "\n",
    "###\n",
    "print(rainfallData[2,0])"
   ]
  },
  {
   "cell_type": "markdown",
   "metadata": {},
   "source": [
    "### Slicing.\n",
    "There are some really common **slices** to know.  Try executing the code below...\n",
    "\n"
   ]
  },
  {
   "cell_type": "code",
   "execution_count": 6,
   "metadata": {},
   "outputs": [
    {
     "name": "stdout",
     "output_type": "stream",
     "text": [
      "All but the first:  ['quartz', 'feldspar', 'perskovite', \"Ben (he's a bit boring.)\"]\n",
      "All but the last:  ['garnate', 'quartz', 'feldspar', 'perskovite']\n",
      "2nd, 3rd, 4th:  ['quartz', 'feldspar', 'perskovite']\n",
      "All:  ['garnate', 'quartz', 'feldspar', 'perskovite', \"Ben (he's a bit boring.)\"]\n"
     ]
    }
   ],
   "source": [
    "rocks=['garnate', 'quartz', 'feldspar', 'perskovite', \"Ben (he's a bit boring.)\"]\n",
    "print(\"All but the first: \", rocks[1:])  # start at 1, go up to the very end.\n",
    "print(\"All but the last: \", rocks[:-1])  # start at the beginning, 0, and go up to 1 before the end\n",
    "print(\"2nd, 3rd, 4th: \", rocks[1:4]) # note the first rock is at index 0.\n",
    "print(\"All: \", rocks[:])  # technically this makes a COPY of the list too."
   ]
  },
  {
   "cell_type": "markdown",
   "metadata": {},
   "source": [
    "### Slicing Out Array Pieces with NumPy\n",
    "\n",
    "In Numpy, you can specify slices on each dimension.  And if you put : for one of the indices, you get the entire range. And if you specify a specific row or column, the dimensionality drops.\n",
    "\n",
    "Try executing the cell below.  That'll give you an idea of how to do this next party.  PARTY ON.\n",
    "\n",
    "*Note that NumPy also defines ...  which is like \"all the values in all the other dimensions\" which isn't really that useful for 2d arrays.*\n",
    "\n",
    "\n",
    "#### --> 3.  Parse out the values of rainfallData\n",
    "* Store the headers in a vector `header` by selecting out and saving the first row.\n",
    "* Store the state names in a vector `states` by selecting out the first column.  Remember you'll need to exclude the first row too because that's a header.\n",
    "* Store the values in an array `rainfallDataValues` by cutting out the state names and header.\n",
    "* Print the header, print the first 3 states, print the first 3 rows of data.\n",
    "\n",
    "You should get, roughly:\n",
    "```\n",
    "['State' 'Inches' 'MM' 'Rank']\n",
    "['Alabama' 'Alaska' 'Arizona']\n",
    "[['58.3' '1480' '4']\n",
    " ['22.5' '572' '39']\n",
    " ['13.6' '345' '47']]\n",
    " ```\n",
    " \n",
    " **Double Click Here for answer**\n",
    "<!--\n",
    "\n",
    "header = rainfallData[0, :]\n",
    "states = rainfallData[1:, 0]\n",
    "rainfallDataValues = rainfallData[ 1:, 1: ]\n",
    "print(header)\n",
    "print(states[0:3])\n",
    "print(rainfallDataValues[0:3])\n",
    "\n",
    "-->\n"
   ]
  },
  {
   "cell_type": "code",
   "execution_count": 38,
   "metadata": {
    "scrolled": true
   },
   "outputs": [
    {
     "name": "stdout",
     "output_type": "stream",
     "text": [
      "A is, as you remember: \n",
      " [[1 2 3]\n",
      " [4 5 6]]\n",
      "The first row, as a vector:  [1 2 3]\n",
      "The first column, as a vector:  [1 4]\n",
      "And this is cool...\n",
      "All but the first column: \n",
      "[[2 3]\n",
      " [5 6]]\n",
      "['State' 'Inches' 'MM' 'Rank']\n",
      "['Alabama' 'Alaska' 'Arizona']\n",
      "[['58.3' '1480' '4']\n",
      " ['22.5' '572' '39']\n",
      " ['13.6' '345' '47']]\n"
     ]
    }
   ],
   "source": [
    "print(\"A is, as you remember: \\n\", a)\n",
    "print(\"The first row, as a vector: \", a[0,:])  \n",
    "print(\"The first column, as a vector: \", a[:,0])\n",
    "print(\"And this is cool...\")\n",
    "print(\"All but the first column: \")\n",
    "print(a[:, 1:])\n",
    "\n",
    "\n",
    "\n",
    "###\n",
    "header = rainfallData[0, :] \n",
    "states = rainfallData[1:, 0]\n",
    "rainfallDataValues = rainfallData[ 1:, 1: ]\n",
    "print(header)\n",
    "print(states[0:3])\n",
    "print(rainfallDataValues[0:3])"
   ]
  },
  {
   "cell_type": "markdown",
   "metadata": {},
   "source": [
    "## Convertying Types \n",
    "NumPy arrays are Homogeneous - all the same type.  You can cast them with the astype() method.\n",
    "You can inspect the type of `a` with:  `a.dtype`  That'll show you that the type is int64 which is very specific:  integers that are 64 bits of data. Roughly values +/- 2^63 (one bit for sign). or +/- 4 billion billion.\n",
    "\n",
    "the `a.dtype` is **not** a function method call.  It's a property.\n",
    "\n",
    "You can convert `a` to a floats instead of ints with:  `a_floats = a.astype(float)` and that stores the result in variable `a_floats`\n",
    "\n",
    "#### --> 4. Convert rainfallDataValues to float\n",
    "And verify the type.\n",
    "\n",
    "**Double Click Here for answer**\n",
    "<!--\n",
    "rainfallDataValues = rainfallDataValues.astype(float)\n",
    "print(rainfallDataValues.dtype)\n",
    "-->\n",
    "\n"
   ]
  },
  {
   "cell_type": "code",
   "execution_count": 49,
   "metadata": {},
   "outputs": [
    {
     "name": "stdout",
     "output_type": "stream",
     "text": [
      "int64\n",
      "float64\n",
      "float64\n"
     ]
    }
   ],
   "source": [
    "print(a.dtype )\n",
    "a_floats = a.astype(float)\n",
    "print(a_floats.dtype)\n",
    "\n",
    "###\n",
    "rainfallDataValues = rainfallDataValues.astype(float)\n",
    "print(rainfallDataValues.dtype)"
   ]
  },
  {
   "cell_type": "markdown",
   "metadata": {},
   "source": [
    "## Reshaping\n",
    "\n",
    "We're going to now play briefly with reshaping, concatenating, and stacking.\n",
    "\n",
    "If you have a one dimensional array, you can make it a 2d array.  And you can let NumPy figure out the size of one of the dimensions by putting a -1 in that size.\n"
   ]
  },
  {
   "cell_type": "code",
   "execution_count": 30,
   "metadata": {},
   "outputs": [
    {
     "name": "stdout",
     "output_type": "stream",
     "text": [
      "[[ 1.  2.  3.  4.]\n",
      " [ 5.  6.  7.  8.]\n",
      " [ 9. 10. 11. 12.]]\n",
      "\n",
      "Reshaped (-1, 4)...  (3, 4) which is: \n",
      " [[ 1.  2.  3.  4.]\n",
      " [ 5.  6.  7.  8.]\n",
      " [ 9. 10. 11. 12.]]\n",
      "\n",
      "Reshaped (2, -1)...  (2, 6) which is: \n",
      " [[ 1.  2.  3.  4.  5.  6.]\n",
      " [ 7.  8.  9. 10. 11. 12.]]\n"
     ]
    }
   ],
   "source": [
    "a1 = np.linspace(1,12,12)\n",
    "print(a2)\n",
    "\n",
    "a2 = a1.reshape( (-1,4 ))\n",
    "print(\"\\nReshaped (-1, 4)... \" , a2.shape, \"which is: \\n\", a2)\n",
    "\n",
    "# See how you can reshape an array even if it isn't flat.\n",
    "# a2 is not flat. \n",
    "a3 = a2.reshape( (2,-1) )\n",
    "print(\"\\nReshaped (2, -1)... \" , a3.shape, \"which is: \\n\", a3)"
   ]
  },
  {
   "cell_type": "markdown",
   "metadata": {},
   "source": [
    "Reshape makes a copy.\n",
    "\n",
    "You can also use `np.resize( a1,  (dimensions)   )` and that will do an in-place resizing, plus fill in data by repeating to get to the right size.  You can't say `a.resize( (dimensions) )` for some reason though.  I think \"resize\" is a NumPy function"
   ]
  },
  {
   "cell_type": "markdown",
   "metadata": {},
   "source": [
    "## Transposing\n",
    "\n",
    "In Octave, you can do `A'` to transpose an array.  In NumPy, you use `somearray.T`\n",
    "\n",
    "That's the same as saying `somearray.transpose()`\n",
    "\n"
   ]
  },
  {
   "cell_type": "code",
   "execution_count": 39,
   "metadata": {},
   "outputs": [
    {
     "name": "stdout",
     "output_type": "stream",
     "text": [
      "[[ 1.  2.  3.  4.]\n",
      " [ 5.  6.  7.  8.]\n",
      " [ 9. 10. 11. 12.]]\n",
      "[[ 1.  5.  9.]\n",
      " [ 2.  6. 10.]\n",
      " [ 3.  7. 11.]\n",
      " [ 4.  8. 12.]]\n"
     ]
    }
   ],
   "source": [
    "print(a2)\n",
    "print(a2.T)"
   ]
  },
  {
   "cell_type": "markdown",
   "metadata": {},
   "source": [
    "## Practice with Resizing and Transposing\n",
    "\n",
    "#### --> 5.  Reshaping and resizing play.\n",
    "* Create a 4,4 identity matrix, named `i`\n",
    "* Flatten it.  Make your flatten statement so that it doesn't care what the size is. (use -1).  Store that in `iflat`\n",
    "* Convert it to boolean.  Store that in `iflatbool`\n",
    "* Chop it in half. Store the first half in `ihalfbool`.  It'll have 8 elements.  Use the `i.size` on it to figure out how big it is and `//` integer division for what *half* is\n",
    "* Convert that to a 2-row array called `ibox`.  Use -1 for the columns.\n",
    "* transpose that into a 4x2 array called `iboxtall`.\n",
    "\n",
    "You should get:\n",
    "\n",
    "```\n",
    "[[ True False]\n",
    " [False  True]\n",
    " [False False]\n",
    " [False False]]\n",
    "```\n",
    "\n",
    "**Double Click Here for answer**\n",
    "<!--\n",
    "i = np.eye(4)\n",
    "iflat = i.reshape(-1)\n",
    "iflat.size\n",
    "iflatbool = iflat.astype(bool)\n",
    "ihalfbool = iflatbool[ : iflatbool.size // 2]\n",
    "ibox = ihalfbool.reshape( (2,-1) )\n",
    "iboxtall = ibox.T\n",
    "print(iboxtall)\n",
    "-->\n",
    "\n"
   ]
  },
  {
   "cell_type": "code",
   "execution_count": 45,
   "metadata": {
    "scrolled": true
   },
   "outputs": [
    {
     "name": "stdout",
     "output_type": "stream",
     "text": [
      "[[ True False]\n",
      " [False  True]\n",
      " [False False]\n",
      " [False False]]\n"
     ]
    }
   ],
   "source": [
    "###\n",
    "i = np.eye(4)\n",
    "iflat = i.reshape(-1)\n",
    "iflat.size\n",
    "iflatbool = iflat.astype(bool)\n",
    "ihalfbool = iflatbool[ : iflatbool.size // 2]\n",
    "ibox = ihalfbool.reshape( (2,-1) )\n",
    "iboxtall = ibox.T\n",
    "\n",
    "\n",
    "#\n",
    "print(iboxtall)"
   ]
  },
  {
   "cell_type": "markdown",
   "metadata": {},
   "source": [
    "## Inverting\n",
    "\n",
    "We'll close by showing that NumPy can invert matrices.  Inverting a matrix is what you do when you solve a big system of linear equations (roughly).  There's a lot of technical math and linear algebra specifically on how and why this works, but you may have used *row reduction* in high school to solve a set of linear equations. That basically computes a matrix inverse.\n",
    "\n",
    "We won't be doing a lot with matrix inverses in this class.  Only for Mulitvariable Regression really.\n",
    "There are a few ways to find an inverse.\n",
    "\n",
    "* np.linalg.inv - the exact inverse.  Matrix must be nonsingluar (not \"single\" - have an inverse \"spouse\")\n",
    "* np.linalg.pinv - pseudo - inverse.  This works with singular matrices, and gives A solution (there might be more than one solution).    It's also faster.  And numeric.  It uses gradient descent, actually … which we'll learn a lot about!\n",
    "\n",
    "A few Octave exercises use pinv.\n",
    "\n",
    "\n",
    "\n"
   ]
  },
  {
   "cell_type": "markdown",
   "metadata": {},
   "source": [
    "# Some stats on Rainfall\n",
    "\n",
    "There are a lot of stats you can get on a NumPy array.  But NumPy is designed primarily for storing and manipulating data, and not as much for stats.\n",
    "\n"
   ]
  },
  {
   "cell_type": "code",
   "execution_count": 55,
   "metadata": {},
   "outputs": [
    {
     "name": "stdout",
     "output_type": "stream",
     "text": [
      "Average rainfall for all states 37.078  inches per year\n"
     ]
    }
   ],
   "source": [
    "print(\"Average rainfall for all states\", rainfallDataValues[:,0].mean(axis=0), \" inches per year\" )\n",
    "\n"
   ]
  }
 ],
 "metadata": {
  "kernelspec": {
   "display_name": "Python 3",
   "language": "python",
   "name": "python3"
  },
  "language_info": {
   "codemirror_mode": {
    "name": "ipython",
    "version": 3
   },
   "file_extension": ".py",
   "mimetype": "text/x-python",
   "name": "python",
   "nbconvert_exporter": "python",
   "pygments_lexer": "ipython3",
   "version": "3.7.5"
  }
 },
 "nbformat": 4,
 "nbformat_minor": 2
}
